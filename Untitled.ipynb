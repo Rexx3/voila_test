{
 "cells": [
  {
   "cell_type": "code",
   "execution_count": 3,
   "metadata": {},
   "outputs": [
    {
     "name": "stdout",
     "output_type": "stream",
     "text": [
      "            id                                               name    host_id  \\\n",
      "0         2818           Quiet Garden View Room & Super Fast WiFi       3159   \n",
      "1        20168       Studio with private bathroom in the centre 1      59484   \n",
      "2        27886  Romantic, stylish B&B houseboat in canal district      97647   \n",
      "3        28871                            Comfortable double room     124245   \n",
      "4        29051                            Comfortable single room     124245   \n",
      "...        ...                                                ...        ...   \n",
      "5551  53661558                         apartment center Amsterdam  434282364   \n",
      "5552  53668495  Full flat with garden for families near Wester...   11768620   \n",
      "5553  53669920         Ground Floor of a 200 Year Old Canal House  434634113   \n",
      "5554  53670575             Bright and cozy apartment in Amsterdam  172920739   \n",
      "5555  53671581         Large home close to center transport shops  267671916   \n",
      "\n",
      "            host_name  neighbourhood_group  \\\n",
      "0              Daniel                  NaN   \n",
      "1           Alexander                  NaN   \n",
      "2                Flip                  NaN   \n",
      "3               Edwin                  NaN   \n",
      "4               Edwin                  NaN   \n",
      "...               ...                  ...   \n",
      "5551  Leonardo Romero                  NaN   \n",
      "5552           Helena                  NaN   \n",
      "5553             Kyah                  NaN   \n",
      "5554            Kevin                  NaN   \n",
      "5555            Fauna                  NaN   \n",
      "\n",
      "                               neighbourhood   latitude  longitude  \\\n",
      "0     Oostelijk Havengebied - Indische Buurt  52.364350   4.943580   \n",
      "1                               Centrum-Oost  52.364070   4.893930   \n",
      "2                               Centrum-West  52.387610   4.891880   \n",
      "3                               Centrum-West  52.367750   4.890920   \n",
      "4                               Centrum-Oost  52.365840   4.891110   \n",
      "...                                      ...        ...        ...   \n",
      "5551                 De Pijp - Rivierenbuurt  52.342191   4.906892   \n",
      "5552                           Bos en Lommer  52.383912   4.856359   \n",
      "5553                            Centrum-West  52.375168   4.881894   \n",
      "5554                           Bos en Lommer  52.378442   4.854791   \n",
      "5555                         Bijlmer-Centrum  52.322727   4.936015   \n",
      "\n",
      "            room_type  price  minimum_nights  number_of_reviews last_review  \\\n",
      "0        Private room     60               3                285  2021-11-21   \n",
      "1        Private room    106               1                339  2020-03-27   \n",
      "2        Private room    135               2                226  2021-10-20   \n",
      "3        Private room     75               2                370  2021-11-25   \n",
      "4        Private room     55               2                520  2021-11-26   \n",
      "...               ...    ...             ...                ...         ...   \n",
      "5551  Entire home/apt    120              20                  0         NaN   \n",
      "5552  Entire home/apt    140               5                  0         NaN   \n",
      "5553     Private room    200               2                  0         NaN   \n",
      "5554  Entire home/apt    116               4                  0         NaN   \n",
      "5555  Entire home/apt    800               1                  0         NaN   \n",
      "\n",
      "      reviews_per_month  calculated_host_listings_count  availability_365  \\\n",
      "0                  2.83                               1                70   \n",
      "1                  3.53                               2                 0   \n",
      "2                  2.11                               1                 8   \n",
      "3                  4.63                               2               238   \n",
      "4                  5.57                               2               267   \n",
      "...                 ...                             ...               ...   \n",
      "5551                NaN                               1               365   \n",
      "5552                NaN                               1                13   \n",
      "5553                NaN                               1               363   \n",
      "5554                NaN                               1               349   \n",
      "5555                NaN                               1               365   \n",
      "\n",
      "      number_of_reviews_ltm                   license  \n",
      "0                         7  0363 5F3A 5684 6750 D14D  \n",
      "1                         0  0363 CBB3 2C10 0C2A 1E29  \n",
      "2                         7  0363 974D 4986 7411 88D8  \n",
      "3                        34  0363 607B EA74 0BD8 2F6F  \n",
      "4                        41  0363 607B EA74 0BD8 2F6F  \n",
      "...                     ...                       ...  \n",
      "5551                      0                    Exempt  \n",
      "5552                      0  0363 C724 A106 AE99 0B0B  \n",
      "5553                      0  0363 8553 5196 A6A0 2A7F  \n",
      "5554                      0  0363 4E2B 7976 261A FF95  \n",
      "5555                      0                       NaN  \n",
      "\n",
      "[5556 rows x 18 columns]\n"
     ]
    }
   ],
   "source": [
    "import pandas as pd\n",
    "\n",
    "df = pd.read_csv('listings.csv')\n",
    "print(df)"
   ]
  },
  {
   "cell_type": "code",
   "execution_count": null,
   "metadata": {},
   "outputs": [],
   "source": []
  }
 ],
 "metadata": {
  "kernelspec": {
   "display_name": "Python 3",
   "language": "python",
   "name": "python3"
  },
  "language_info": {
   "codemirror_mode": {
    "name": "ipython",
    "version": 3
   },
   "file_extension": ".py",
   "mimetype": "text/x-python",
   "name": "python",
   "nbconvert_exporter": "python",
   "pygments_lexer": "ipython3",
   "version": "3.7.3"
  },
  "varInspector": {
   "cols": {
    "lenName": 16,
    "lenType": 16,
    "lenVar": 40
   },
   "kernels_config": {
    "python": {
     "delete_cmd_postfix": "",
     "delete_cmd_prefix": "del ",
     "library": "var_list.py",
     "varRefreshCmd": "print(var_dic_list())"
    },
    "r": {
     "delete_cmd_postfix": ") ",
     "delete_cmd_prefix": "rm(",
     "library": "var_list.r",
     "varRefreshCmd": "cat(var_dic_list()) "
    }
   },
   "types_to_exclude": [
    "module",
    "function",
    "builtin_function_or_method",
    "instance",
    "_Feature"
   ],
   "window_display": false
  }
 },
 "nbformat": 4,
 "nbformat_minor": 4
}
